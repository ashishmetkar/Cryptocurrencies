{
 "cells": [
  {
   "cell_type": "code",
   "execution_count": 1,
   "id": "3850592a",
   "metadata": {},
   "outputs": [],
   "source": [
    "import pandas as pd\n",
    "import numpy as np\n",
    "from pandas_datareader import data as wb"
   ]
  },
  {
   "cell_type": "code",
   "execution_count": 2,
   "id": "c83f591f",
   "metadata": {},
   "outputs": [],
   "source": [
    "tickers = ['BTC-USD','ETH-USD','USDT-USD','BNB-USD','ADA-USD','XRP-USD','DOGE-USD','DOT-USD','SOL-USD','LUNA1-USD']\n",
    "crypto_data = pd.DataFrame()\n",
    "\n",
    "for t in tickers:\n",
    "    crypto_data[t] = wb.DataReader(t, data_source = 'yahoo',start = '2021-08-31', end = '2022-01-31')['Adj Close']"
   ]
  },
  {
   "cell_type": "code",
   "execution_count": 3,
   "id": "68d2b93d",
   "metadata": {},
   "outputs": [],
   "source": [
    "crypto_data.to_excel('/Users/ashishmetkar/Ashish/Jobs/Courses/Cryptocurrencies Data.xlsx')"
   ]
  },
  {
   "cell_type": "code",
   "execution_count": null,
   "id": "78099546",
   "metadata": {},
   "outputs": [],
   "source": []
  }
 ],
 "metadata": {
  "kernelspec": {
   "display_name": "Python 3 (ipykernel)",
   "language": "python",
   "name": "python3"
  },
  "language_info": {
   "codemirror_mode": {
    "name": "ipython",
    "version": 3
   },
   "file_extension": ".py",
   "mimetype": "text/x-python",
   "name": "python",
   "nbconvert_exporter": "python",
   "pygments_lexer": "ipython3",
   "version": "3.9.7"
  }
 },
 "nbformat": 4,
 "nbformat_minor": 5
}
